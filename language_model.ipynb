{
  "nbformat": 4,
  "nbformat_minor": 0,
  "metadata": {
    "colab": {
      "name": "language_model.ipynb",
      "provenance": [],
      "collapsed_sections": [],
      "include_colab_link": true
    },
    "kernelspec": {
      "name": "python3",
      "display_name": "Python 3"
    },
    "accelerator": "GPU"
  },
  "cells": [
    {
      "cell_type": "markdown",
      "metadata": {
        "id": "view-in-github",
        "colab_type": "text"
      },
      "source": [
        "<a href=\"https://colab.research.google.com/github/SammData/Lab5_Deep_Learning/blob/master/language_model.ipynb\" target=\"_parent\"><img src=\"https://colab.research.google.com/assets/colab-badge.svg\" alt=\"Open In Colab\"/></a>"
      ]
    },
    {
      "cell_type": "code",
      "metadata": {
        "id": "yTA7r-UtLIkk",
        "colab_type": "code",
        "colab": {
          "base_uri": "https://localhost:8080/",
          "height": 122
        },
        "outputId": "f673562b-1763-4d63-bcd1-411565b2060b"
      },
      "source": [
        "from google.colab import drive\n",
        "drive.mount('/content/drive')"
      ],
      "execution_count": 1,
      "outputs": [
        {
          "output_type": "stream",
          "text": [
            "Go to this URL in a browser: https://accounts.google.com/o/oauth2/auth?client_id=947318989803-6bn6qk8qdgf4n4g3pfee6491hc0brc4i.apps.googleusercontent.com&redirect_uri=urn%3aietf%3awg%3aoauth%3a2.0%3aoob&response_type=code&scope=email%20https%3a%2f%2fwww.googleapis.com%2fauth%2fdocs.test%20https%3a%2f%2fwww.googleapis.com%2fauth%2fdrive%20https%3a%2f%2fwww.googleapis.com%2fauth%2fdrive.photos.readonly%20https%3a%2f%2fwww.googleapis.com%2fauth%2fpeopleapi.readonly\n",
            "\n",
            "Enter your authorization code:\n",
            "··········\n",
            "Mounted at /content/drive\n"
          ],
          "name": "stdout"
        }
      ]
    },
    {
      "cell_type": "code",
      "metadata": {
        "id": "hgjoDE-OJRgI",
        "colab_type": "code",
        "colab": {}
      },
      "source": [
        "from fastai.text import *\n",
        "\n",
        "path = \"/content/drive/My Drive/DATA-475/imdb\""
      ],
      "execution_count": 2,
      "outputs": []
    },
    {
      "cell_type": "code",
      "metadata": {
        "id": "Ng9a7n9kste4",
        "colab_type": "code",
        "colab": {
          "base_uri": "https://localhost:8080/",
          "height": 17
        },
        "outputId": "f6f3e6f9-f4bd-4122-8e5d-782b34d221c7"
      },
      "source": [
        "# create TextLMDataBunch using the csv in path\n",
        "#     remember to specify the text column\n",
        "data_lm = TextLMDataBunch.from_csv(\n",
        "    path,\n",
        "    \"train.csv\",\n",
        "    text_cols=\"review\"\n",
        ")"
      ],
      "execution_count": 3,
      "outputs": [
        {
          "output_type": "display_data",
          "data": {
            "text/html": [
              ""
            ],
            "text/plain": [
              "<IPython.core.display.HTML object>"
            ]
          },
          "metadata": {
            "tags": []
          }
        },
        {
          "output_type": "display_data",
          "data": {
            "text/html": [
              ""
            ],
            "text/plain": [
              "<IPython.core.display.HTML object>"
            ]
          },
          "metadata": {
            "tags": []
          }
        }
      ]
    },
    {
      "cell_type": "code",
      "metadata": {
        "id": "NCVGVEOWsS_G",
        "colab_type": "code",
        "colab": {
          "base_uri": "https://localhost:8080/",
          "height": 17
        },
        "outputId": "52f1ab67-b0a1-4e50-a897-7c10ddc5c75d"
      },
      "source": [
        "# create TextClasDataBunch using the csv in path\n",
        "#     remember to specify the text/label column\n",
        "#     specify test dataset, vocab, and bs\n",
        "data_clas = TextClasDataBunch.from_csv(\n",
        "    path,\n",
        "    \"train.csv\",\n",
        "    test=\"test.csv\",\n",
        "    text_cols=\"review\",\n",
        "    label_cols=\"sentiment\",\n",
        "    vocab=data_lm.train_ds.vocab,\n",
        "    bs=32\n",
        ")"
      ],
      "execution_count": 6,
      "outputs": [
        {
          "output_type": "display_data",
          "data": {
            "text/html": [
              ""
            ],
            "text/plain": [
              "<IPython.core.display.HTML object>"
            ]
          },
          "metadata": {
            "tags": []
          }
        },
        {
          "output_type": "display_data",
          "data": {
            "text/html": [
              ""
            ],
            "text/plain": [
              "<IPython.core.display.HTML object>"
            ]
          },
          "metadata": {
            "tags": []
          }
        },
        {
          "output_type": "display_data",
          "data": {
            "text/html": [
              ""
            ],
            "text/plain": [
              "<IPython.core.display.HTML object>"
            ]
          },
          "metadata": {
            "tags": []
          }
        }
      ]
    },
    {
      "cell_type": "code",
      "metadata": {
        "id": "WcrrDK7-aT0v",
        "colab_type": "code",
        "colab": {
          "base_uri": "https://localhost:8080/",
          "height": 34
        },
        "outputId": "a35f3f45-8824-44d6-9a84-7e15ac2e1100"
      },
      "source": [
        "# create language model learner with AWD_LSTM architecture and drop_mult of 0.5\n",
        "lm_learner = language_model_learner(data_lm,arch=AWD_LSTM, drop_mult=.5)"
      ],
      "execution_count": 8,
      "outputs": [
        {
          "output_type": "stream",
          "text": [
            "Downloading https://s3.amazonaws.com/fast-ai-modelzoo/wt103-fwd.tgz\n"
          ],
          "name": "stdout"
        },
        {
          "output_type": "display_data",
          "data": {
            "text/html": [
              ""
            ],
            "text/plain": [
              "<IPython.core.display.HTML object>"
            ]
          },
          "metadata": {
            "tags": []
          }
        }
      ]
    },
    {
      "cell_type": "code",
      "metadata": {
        "id": "XnMFnhvZVM8k",
        "colab_type": "code",
        "colab": {
          "base_uri": "https://localhost:8080/",
          "height": 408
        },
        "outputId": "dd85ed28-dec3-491c-db0e-35307641df8f"
      },
      "source": [
        "# find a learing rate\n",
        "lm_learner.lr_find()\n",
        "lm_learner.recorder.plot(suggestion=True)"
      ],
      "execution_count": 9,
      "outputs": [
        {
          "output_type": "display_data",
          "data": {
            "text/html": [
              "\n",
              "    <div>\n",
              "        <style>\n",
              "            /* Turns off some styling */\n",
              "            progress {\n",
              "                /* gets rid of default border in Firefox and Opera. */\n",
              "                border: none;\n",
              "                /* Needs to be in here for Safari polyfill so background images work as expected. */\n",
              "                background-size: auto;\n",
              "            }\n",
              "            .progress-bar-interrupted, .progress-bar-interrupted::-webkit-progress-bar {\n",
              "                background: #F44336;\n",
              "            }\n",
              "        </style>\n",
              "      <progress value='0' class='' max='1' style='width:300px; height:20px; vertical-align: middle;'></progress>\n",
              "      0.00% [0/1 00:00<00:00]\n",
              "    </div>\n",
              "    \n",
              "<table border=\"1\" class=\"dataframe\">\n",
              "  <thead>\n",
              "    <tr style=\"text-align: left;\">\n",
              "      <th>epoch</th>\n",
              "      <th>train_loss</th>\n",
              "      <th>valid_loss</th>\n",
              "      <th>accuracy</th>\n",
              "      <th>time</th>\n",
              "    </tr>\n",
              "  </thead>\n",
              "  <tbody>\n",
              "  </tbody>\n",
              "</table><p>\n",
              "\n",
              "    <div>\n",
              "        <style>\n",
              "            /* Turns off some styling */\n",
              "            progress {\n",
              "                /* gets rid of default border in Firefox and Opera. */\n",
              "                border: none;\n",
              "                /* Needs to be in here for Safari polyfill so background images work as expected. */\n",
              "                background-size: auto;\n",
              "            }\n",
              "            .progress-bar-interrupted, .progress-bar-interrupted::-webkit-progress-bar {\n",
              "                background: #F44336;\n",
              "            }\n",
              "        </style>\n",
              "      <progress value='99' class='' max='1340' style='width:300px; height:20px; vertical-align: middle;'></progress>\n",
              "      7.39% [99/1340 00:29<06:08 11.6215]\n",
              "    </div>\n",
              "    "
            ],
            "text/plain": [
              "<IPython.core.display.HTML object>"
            ]
          },
          "metadata": {
            "tags": []
          }
        },
        {
          "output_type": "stream",
          "text": [
            "LR Finder is complete, type {learner_name}.recorder.plot() to see the graph.\n",
            "Min numerical gradient: 1.91E-02\n",
            "Min loss divided by 10: 6.92E-03\n"
          ],
          "name": "stdout"
        },
        {
          "output_type": "display_data",
          "data": {
            "image/png": "[encoded data removed]",
            "text/plain": [
              "<Figure size 432x288 with 1 Axes>"
            ]
          },
          "metadata": {
            "tags": [],
            "needs_background": "light"
          }
        }
      ]
    },
    {
      "cell_type": "code",
      "metadata": {
        "id": "B9DZ8FALAw7r",
        "colab_type": "code",
        "colab": {
          "base_uri": "https://localhost:8080/",
          "height": 111
        },
        "outputId": "c4ec0501-5490-4461-93f6-ee10bb885e6b"
      },
      "source": [
        "# fit one cycle\n",
        "lr = lm_learner.recorder.min_grad_lr\n",
        "lm_learner.fit_one_cycle(2, lr)"
      ],
      "execution_count": 10,
      "outputs": [
        {
          "output_type": "display_data",
          "data": {
            "text/html": [
              "<table border=\"1\" class=\"dataframe\">\n",
              "  <thead>\n",
              "    <tr style=\"text-align: left;\">\n",
              "      <th>epoch</th>\n",
              "      <th>train_loss</th>\n",
              "      <th>valid_loss</th>\n",
              "      <th>accuracy</th>\n",
              "      <th>time</th>\n",
              "    </tr>\n",
              "  </thead>\n",
              "  <tbody>\n",
              "    <tr>\n",
              "      <td>0</td>\n",
              "      <td>4.463296</td>\n",
              "      <td>4.254728</td>\n",
              "      <td>0.272939</td>\n",
              "      <td>08:15</td>\n",
              "    </tr>\n",
              "    <tr>\n",
              "      <td>1</td>\n",
              "      <td>4.115180</td>\n",
              "      <td>4.047750</td>\n",
              "      <td>0.291080</td>\n",
              "      <td>08:15</td>\n",
              "    </tr>\n",
              "  </tbody>\n",
              "</table>"
            ],
            "text/plain": [
              "<IPython.core.display.HTML object>"
            ]
          },
          "metadata": {
            "tags": []
          }
        }
      ]
    },
    {
      "cell_type": "code",
      "metadata": {
        "id": "3ZIbQuXSKS5V",
        "colab_type": "code",
        "colab": {}
      },
      "source": [
        "# save the encoder\n",
        "lm_learner.save_encoder(\"model\")"
      ],
      "execution_count": 11,
      "outputs": []
    },
    {
      "cell_type": "code",
      "metadata": {
        "id": "OFGrAyvQvXLH",
        "colab_type": "code",
        "colab": {
          "base_uri": "https://localhost:8080/",
          "height": 35
        },
        "outputId": "4d4cc83c-d986-4de0-b681-6846c626f29a"
      },
      "source": [
        "lm_learner.predict(\"this movie talks about Canadian\", n_words=20)"
      ],
      "execution_count": 12,
      "outputs": [
        {
          "output_type": "execute_result",
          "data": {
            "application/vnd.google.colaboratory.intrinsic+json": {
              "type": "string"
            },
            "text/plain": [
              "'this movie talks about Canadian Blaxploitation icon John Travolta . Now Travolta has a disgustingly gory , graphic film based'"
            ]
          },
          "metadata": {
            "tags": []
          },
          "execution_count": 12
        }
      ]
    },
    {
      "cell_type": "code",
      "metadata": {
        "id": "p-Jv0yyyJWmN",
        "colab_type": "code",
        "colab": {
          "base_uri": "https://localhost:8080/",
          "height": 1000
        },
        "outputId": "bf5d70d0-45fc-48f3-f1b0-2b290688825f"
      },
      "source": [
        "clas_learner = text_classifier_learner(data_clas, arch=AWD_LSTM, drop_mult=0.5)\n",
        "clas_learner.load_encoder(\"model\")"
      ],
      "execution_count": 13,
      "outputs": [
        {
          "output_type": "execute_result",
          "data": {
            "text/plain": [
              "RNNLearner(data=TextClasDataBunch;\n",
              "\n",
              "Train: LabelList (19999 items)\n",
              "x: TextList\n",
              "xxbos a very early xxmaj oliver xxmaj stone ( xxunk film , and one of the first films in the impressive career of xxmaj lloyd xxmaj kaufman ( co - founder and president of the world 's only real independent film studio xxmaj troma , creator of the xxmaj toxic xxmaj avenger and , at the prestigious xxmaj amsterdam xxmaj fantastic xxmaj filmfestival , lifetime - achievement awarded filmmaker for over 30 years ) . xxmaj having raised the money for this film on his own , xxmaj lloyd wrote this script together with xxmaj theodore xxmaj gershuni in 1970 and in hindsight regrets having listened to advice to have xxmaj gershuni else direct the film instead of doing it himself . xxmaj but back then he was still inexperienced in the business and it is probably because of decisions like these that he takes no nonsense from anyone anymore . xxmaj indeed it would have been interesting to see xxmaj lloyd 's version of his own script - as one of the world 's most original , daring , experimental and non - compromising directors he probably would have given it even more edge than it already has . xxmaj but as it is we have the xxmaj gershuni - directed film . xxmaj and weather it is due to the strong script , or the fact that he too is indeed quite a director of his own , xxup sugar xxup cookies is a very intelligent , highly suspenseful and well - crafted motion picture that deserves a lot more attention than it receives . xxmaj the shoestring budget the small studio ( this was even before xxmaj kaufman and his friend and partner for over 30 years now , xxmaj michael xxmaj xxunk , formed xxmaj troma ) had to work with is so well handled that the film looks a lot more expensive , indeed does not have a \" low budget \" look at all . xxmaj the story revolves around lesbian xxmaj camilla xxmaj stone ( played by enigmatic xxmaj mary xxmaj xxunk ) and her lover who winds up dead through circumstances i wo n't reveal not to spoil a delightful story . xxmaj this leads to a succession of plot - twists , mind games and personality reform that is loosely inspired by xxmaj hitchcock 's xxmaj vertigo and at least as inventive . xxmaj the atmosphere is a lot grimmer , though , and some comparisons to xxmaj nicholas xxmaj roeg 's and xxmaj donald xxmaj xxunk 's xxup performance come to mind . xxmaj in this mix is a very original and inventive erotic laden thriller that keeps it quite unclear as to how it is all going to end , which , along with a splendidly interwoven sub - plot with a nod to xxmaj kaufman 's earlier and unfortunately unavailable xxup big xxup guss xxup what xxup 's xxup the xxup fuss , makes for a very exciting one - and - a - half - hour . xxmaj certainly one of the best films in xxmaj troma 's library , and yet again one of those films that defy the curious fantasy that their catalog is one of bad taste . xxmaj the xxup dvd includes some recent interviews xxmaj kaufman conducts with xxmaj woronov and the other leading lady xxmaj lynn xxmaj lowry ( later seen in xxmaj george xxmaj romero 's xxup the xxup crazies ) , thus giving some interesting insight in what went on during the making of this cult - favorite and a few hints of what would be different had xxmaj lloyd directed it himself . xxmaj highly recommended .,xxbos xxmaj do n't waste your time on this dreck . xxmaj as portrayed , the characters have no redeeming values and watching them interact is sheer torture . \" xxmaj gothic \" was entertainment at least , this is crap . xxmaj if you like watching pretentious and spoiled poets straining to outwit each other , this may be right up your alley . xxmaj lord xxmaj byron is portrayed as a complete jerk , and why the others would choose to spend more than five minutes with him is truly bewildering . xxmaj mary xxmaj shelly appears to be the only character with any spine whatsoever , but even she comes out of the whole ordeal without an ounce of respect . xxmaj what a waste of time . xxmaj see xxmaj gothic instead . i also remember seeing another superior movie based on the same subject matter , but did n't catch the title . i was hoping this was it , but no such luck . xxmaj not recommended .,xxbos xxmaj the best martial arts movie ever made . xxmaj this one movie is better than anything xxmaj bruce xxmaj lee ever did . a classic with a thoroughly entertaining and brutal climax . xxmaj jackie xxmaj chan is the king of martial arts movies and the true king of kung fu . xxmaj it 's a great pity that whilst xxmaj bruce xxmaj lee had been so overrated , it took xxmaj jackie xxmaj chan an eternity to become popular in xxmaj europe and xxmaj america . xxmaj jackie rules xxrep 4 !,xxbos i must admit , there are few books with corresponding movies that i have actually read before seeing the cinematic adaptation . xxmaj nineteen xxmaj eighty - xxmaj four happens to be one of those rare cases . xxmaj the book was great . xxmaj it was immersive and interestingly prophetic . xxmaj but the movie just plain sucked . xxmaj it is easily the worst film i have ever seen . xxmaj the only reason i did n't turn it off after the first 5 minutes was the fact that watching the movie was half of a two - part assignment for a class . xxmaj it was dark and grotesque , but did nothing in the way of achieving the proper atmosphere . xxmaj the acting was nothing above average , and considering the fact that there was n't much to act out , this was severely disappointing . xxmaj the book , for example , did n't give me the impression that xxmaj winston was unable to blurt out more than a single syllable at a time . xxmaj boring , disturbing , and visually unappealing , the movie totally xxunk the book . xxmaj wait a second ... xxmaj isn't it xxmaj british ?,xxbos i saw this film when it was originally released in 1989 . i enjoyed it then , and i still do now . xxmaj but what i realize now is that this is quite \" adult \" for a film with a g rating , especially the notion of dying and going to xxmaj heaven . xxmaj burt xxmaj reynolds and xxmaj dom deluise work wonderfully together , and xxmaj reynolds ' singing voice is appropriate for a junkyard dog . xxmaj there are some good songs ranging from upbeat ( \" xxmaj let 's xxmaj make xxmaj music xxmaj together \" ) to downright emotional ( \" xxmaj home to xxmaj my xxmaj heart \" ) . i found the plot good , although it does go off on a tangent once or twice . xxmaj the final scene of the film with xxmaj charlie and xxmaj anne - xxmaj marie is one of the saddest i 've ever seen in animation . a film worth experiencing .\n",
              "y: CategoryList\n",
              "positive,negative,positive,negative,positive\n",
              "Path: /content/drive/My Drive/DATA-475/imdb;\n",
              "\n",
              "Valid: LabelList (5001 items)\n",
              "x: TextList\n",
              "xxbos xxmaj one of the most timely and engrossing documentaries , you 'll ever watch . xxmaj while the story takes place in the xxmaj venezuelan capital of xxmaj caracas , it provides an intimate look into political dynamics , that prevail throughout the western xxmaj hemisphere . xxmaj while essentially another chapter in the story of the \" xxup u.s. backed , xxmaj latin xxmaj american coup \" , this film chronicles in real - time , what can happen when the poorest people , are armed with unity , political savvy , and courage ! xxmaj the political insights offered by this film are invaluable . xxmaj one gets clear examples of the private media , as a formidable force for mass deception and propaganda . xxmaj we see the poor people of xxmaj caracas grappling with the brutal realities of \" xxmaj american politics \" . xxmaj one gets a clear sense of impending doom , if the people fail to address the blatant tyranny , which has been abruptly , and illegally , thrust upon them by the conspirators . xxmaj we also see the arrogance and fascism , of the xxup cia backed , private media , xxunk , and generals , who 've conspired to bring xxmaj venezuela back under xxmaj washington 's domination . xxmaj though ably led by xxmaj president xxmaj hugo xxmaj chavez , the people of xxmaj caracas are forced to act without him , after xxmaj chavez was forcibly kidnapped by renegade generals . xxmaj their response is the highpoint of the film . xxmaj if one seeks an excellent portrait of what the xxup u.s. government , xxmaj hugo xxmaj chavez , and revolutionary xxmaj venezuela , are all about , this movie is it !,xxbos a slow , tedious , and one dimensional movie ! xxmaj good casting with clichéd dialogue , boring story line , and soulless direction from xxmaj mr xxmaj marshal ! xxmaj the conventional and predictable story of the most famous form of prostitution from the xxmaj asian continent , lacks heart , new insights , and depth . xxmaj the lead character looks out of place due to her tiny xxunk and phony looking contact lenses . xxmaj the lexicon employed by the geishas sounds forced and a bit too sophisticated for their limited exposure in the ways of education . xxmaj the story goes on and on for hours trying to convince you this little , boring , flat chested xxmaj asian girl is the ultimate xxmaj geisha , they actually say in the movie \" xxmaj she is destined to become a legend \" i say hardy the case ! xxmaj the movie is just plain boring , it is beautiful to look at , it has a very few interesting moments as many as you may find by going out for xxunk . xxmaj basically , if you do n't believe the messenger you wo nt believe the message , and this girl did n't fill the shoe ! xxmaj xxunk , boring , skip it !,xxbos xxmaj it was a decent movie , i actually kind of enjoyed it . xxmaj but the ending is so abrupt ! ! xxmaj there is absolutely no closure and it leaves tons of loose ends . xxmaj what happens after the concert ? xxmaj what happens with her boyfriend ? xxmaj does she hook up with xxmaj grant ? xxmaj does she come beck in the next semester ? xxmaj and what about xxmaj angela ? xxmaj obviously xxmaj holly 's performance would knock xxmaj angela down a few pegs , but nothing is shown to indicate how she reacts . xxmaj there is so much left up in the air and it 's very unsatisfying . i do n't know if it is trying to leave room for a sequel or something , but it is a terrible ending and i think that it really makes the movie a joke . i was very disappointed .,xxbos xxmaj as a \" xxunk xxmaj catholic \" who had 11 years of xxmaj catholic school , but has n't been to xxmaj mass in 35 years except for weddings and funerals , i thought i 'd get a kick out of this . xxmaj and i did . . . for the first two - thirds of the movie . xxmaj it was all the standard stuff -- strict xxunk school teachings , repressed sexuality , etc . xxmaj but then , suddenly , the movie turned mean . xxup really mean . xxmaj now mind you , i saw this before the pedophilia scandals hit . . . and maybe i would n't have been quite so offended at such nasty , hateful digs at the xxmaj catholic xxmaj church if i 'd known about those abominations ( such a xxmaj catholic term ! ) and xxunk . xxmaj it 's been a few years since i rented the video , and i wo n't go back to rent it again with a new perspective . xxmaj it just left such a dirty , nasty , ugly taste in my mouth . . . i wonder what experience all the actors had with the xxmaj church , because either they * really * hate it , or they xxunk themselves for the paycheck . xxmaj it 's an incredibly anti - xxmaj catholic movie , offensive to anyone who has a glimmer of a xxunk of respect for xxmaj catholic education . xxmaj which i still do because there were no better teachers back in the ' 50s . xxmaj whatever else those nuns did , they forced me to learn how to read and write the xxmaj english language . xxmaj they made us memorize . ( xxmaj how many kids today can do simple xxunk in their heads ? ) xxmaj truth is , there 's nothing more essential for success in xxmaj america . xxmaj can ya read ? xxmaj can ya add / subtract / multiply / divide ? xxmaj great . xxmaj you can get any advanced degree you want . xxmaj and the discipline of xxmaj catholic education will stand you in good stead , not just as you continue your studies , but also for the rest of your life , no matter what you think of the xxmaj catholic \" mythology \" we all had to learn . xxmaj such a great cast , such a lousy , rotten script . i really feel bad ( and no , it 's not \" badly \" -- trust me , the nuns taught me better ) for the writer and director . i thought i had mixed emotions about xxmaj catholic school . xxmaj but the participants in this project must 've been those bad ( xxunk , stupid ) kids who sat in the back of the room , if they were willingly involved in making this movie .,xxbos i just saw this film on xxmaj turner xxmaj classic xxmaj movies last night and was blown away by xxmaj victor mclaglen 's performance : xxmaj in every sense of the word a \" tour de force \" . xxmaj the atmosphere of 1922 xxmaj dublin evoked through the cinematography and production design really foreshadowed techniques used in the best film noirs of the 40 's and early 50's . xxmaj very nice attention to detail xxunk xxmaj frankie mcphillip 's ( xxmaj wallace xxmaj ford 's ) wake , the mourners are all praying in xxmaj gaelic . xxmaj max xxmaj steiner 's score is unforgettable . xxmaj as in later films such as 1939 's xxup xxunk , he appropriated folk ballads to lend local color and a sense of place and time . xxmaj john xxmaj ford : already a film giant in 1935 !\n",
              "y: CategoryList\n",
              "positive,negative,negative,negative,positive\n",
              "Path: /content/drive/My Drive/DATA-475/imdb;\n",
              "\n",
              "Test: LabelList (25000 items)\n",
              "x: TextList\n",
              "xxbos i went and saw this movie last night after being coaxed to by a few friends of mine . i 'll admit that i was reluctant to see it because from what i knew of xxmaj ashton xxmaj kutcher he was only able to do comedy . i was wrong . xxmaj kutcher played the character of xxmaj jake xxmaj fischer very well , and xxmaj kevin xxmaj costner played xxmaj ben xxmaj randall with such professionalism . xxmaj the sign of a good movie is that it can toy with our emotions . xxmaj this one did exactly that . xxmaj the entire theater ( which was sold out ) was overcome by laughter during the first half of the movie , and were moved to tears during the second half . xxmaj while exiting the theater i not only saw many women in tears , but many full grown men as well , trying desperately not to let anyone see them crying . xxmaj this movie was great , and i suggest that you go see it before you judge .,xxbos xxmaj actor turned director xxmaj bill xxmaj paxton follows up his promising debut , the xxmaj gothic - horror \" xxmaj frailty \" , with this family friendly sports drama about the 1913 xxup u.s. xxmaj open where a young xxmaj american xxunk rises from his humble background to play against his xxmaj xxunk idol in what was dubbed as \" xxmaj the xxmaj greatest xxmaj game xxmaj ever xxmaj played . \" i 'm no fan of golf , and these scrappy underdog sports flicks are a dime a dozen ( most recently done to grand effect with \" xxmaj miracle \" and \" xxmaj cinderella xxmaj man \" ) , but some how this film was enthralling all the same . xxmaj the film starts with some creative opening credits ( imagine a xxmaj disneyfied version of the animated opening credits of xxup hbo 's \" xxmaj carnivale \" and \" xxmaj rome \" ) , but lumbers along slowly for its first by - the - numbers hour . xxmaj once the action moves to the xxup u.s. xxmaj open things pick up very well . xxmaj paxton does a nice job and shows a knack for effective directorial flourishes ( i loved the rain - soaked montage of the action on day two of the open ) that propel the plot further or add some unexpected psychological depth to the proceedings . xxmaj there 's some compelling character development when the xxmaj british xxmaj harry xxmaj xxunk is haunted by images of the aristocrats in black suits and top hats who destroyed his family cottage as a child to make way for a golf course . xxmaj he also does a good job of visually depicting what goes on in the players ' heads under pressure . xxmaj golf , a painfully boring sport , is brought vividly alive here . xxmaj credit should also be given the set designers and costume department for creating an engaging period - piece atmosphere of xxmaj london and xxmaj boston at the beginning of the twentieth century . xxmaj you know how this is going to end not only because it 's based on a true story but also because films in this genre follow the same template over and over , but xxmaj paxton puts on a better than average show and perhaps indicates more talent behind the camera than he ever had in front of it . xxmaj despite the formulaic nature , this is a nice and easy film to root for that deserves to find an audience .,xxbos xxmaj as a recreational golfer with some knowledge of the sport 's history , i was pleased with xxmaj disney 's sensitivity to the issues of class in golf in the early twentieth century . xxmaj the movie depicted well the psychological battles that xxmaj harry xxmaj xxunk fought within himself , from his childhood trauma of being evicted to his own inability to break that glass ceiling that prevents him from being accepted as an equal in xxmaj english golf society . xxmaj likewise , the young xxmaj xxunk goes through his own class struggles , being a mere caddie in the eyes of the upper crust xxmaj americans who scoff at his attempts to rise above his standing . xxmaj what i loved best , however , is how this theme of class is manifested in the characters of xxmaj xxunk 's parents . xxmaj his father is a working - class drone who sees the value of hard work but is intimidated by the upper class ; his mother , however , recognizes her son 's talent and desire and encourages him to pursue his dream of competing against those who think he is inferior . xxmaj finally , the golf scenes are well photographed . xxmaj although the course used in the movie was not the actual site of the historical tournament , the little liberties taken by xxmaj disney do not detract from the beauty of the film . xxmaj there 's one little xxmaj disney moment at the pool table ; otherwise , the viewer does not really think xxmaj disney . xxmaj the ending , as in \" xxmaj miracle , \" is not some xxmaj disney creation , but one that only human history could have written .,xxbos i saw this film in a sneak preview , and it is delightful . xxmaj the cinematography is unusually creative , the acting is good , and the story is fabulous . xxmaj if this movie does not do well , it wo n't be because it does n't deserve to . xxmaj before this film , i did n't realize how charming xxmaj shia xxmaj xxunk could be . xxmaj he does a marvelous , self - contained , job as the lead . xxmaj there 's something incredibly sweet about him , and it makes the movie even better . xxmaj the other actors do a good job as well , and the film contains moments of really high suspense , more than one might expect from a movie about golf . xxmaj sports movies are a dime a dozen , but this one stands out . xxmaj this is one i 'd recommend to anyone .,xxbos xxmaj bill xxmaj paxton has taken the true story of the 1913 xxup us golf open and made a film that is about much more than an extra - ordinary game of golf . xxmaj the film also deals directly with the class tensions of the early twentieth century and touches upon the profound anti - xxmaj catholic prejudices of both the xxmaj british and xxmaj american establishments . xxmaj but at heart the film is about that perennial favourite of triumph against the odds . xxmaj the acting is exemplary throughout . xxmaj stephen xxmaj xxunk is excellent as usual , but the revelation of the movie is xxmaj shia xxunk who delivers a disciplined , dignified and highly sympathetic performance as a working class xxmaj franco - xxmaj irish kid fighting his way through the prejudices of the xxmaj new xxmaj england xxup wasp establishment . xxmaj for those who are only familiar with his slap - stick performances in \" xxmaj even xxmaj stevens \" this demonstration of his maturity is a delightful surprise . xxmaj and xxmaj josh xxmaj xxunk as the ten year old xxunk threatens to steal every scene in which he appears . a old fashioned movie in the best sense of the word : fine acting , clear directing and a great story that grips to the end - the final scene an affectionate nod to xxmaj casablanca is just one of the many pleasures that fill a great movie .\n",
              "y: EmptyLabelList\n",
              ",,,,\n",
              "Path: /content/drive/My Drive/DATA-475/imdb, model=SequentialRNN(\n",
              "  (0): MultiBatchEncoder(\n",
              "    (module): AWD_LSTM(\n",
              "      (encoder): Embedding(44016, 400, padding_idx=1)\n",
              "      (encoder_dp): EmbeddingDropout(\n",
              "        (emb): Embedding(44016, 400, padding_idx=1)\n",
              "      )\n",
              "      (rnns): ModuleList(\n",
              "        (0): WeightDropout(\n",
              "          (module): LSTM(400, 1152, batch_first=True)\n",
              "        )\n",
              "        (1): WeightDropout(\n",
              "          (module): LSTM(1152, 1152, batch_first=True)\n",
              "        )\n",
              "        (2): WeightDropout(\n",
              "          (module): LSTM(1152, 400, batch_first=True)\n",
              "        )\n",
              "      )\n",
              "      (input_dp): RNNDropout()\n",
              "      (hidden_dps): ModuleList(\n",
              "        (0): RNNDropout()\n",
              "        (1): RNNDropout()\n",
              "        (2): RNNDropout()\n",
              "      )\n",
              "    )\n",
              "  )\n",
              "  (1): PoolingLinearClassifier(\n",
              "    (layers): Sequential(\n",
              "      (0): BatchNorm1d(1200, eps=1e-05, momentum=0.1, affine=True, track_running_stats=True)\n",
              "      (1): Dropout(p=0.2, inplace=False)\n",
              "      (2): Linear(in_features=1200, out_features=50, bias=True)\n",
              "      (3): ReLU(inplace=True)\n",
              "      (4): BatchNorm1d(50, eps=1e-05, momentum=0.1, affine=True, track_running_stats=True)\n",
              "      (5): Dropout(p=0.1, inplace=False)\n",
              "      (6): Linear(in_features=50, out_features=2, bias=True)\n",
              "    )\n",
              "  )\n",
              "), opt_func=functools.partial(<class 'torch.optim.adam.Adam'>, betas=(0.9, 0.99)), loss_func=FlattenedLoss of CrossEntropyLoss(), metrics=[<function accuracy at 0x7f5c239ef7b8>], true_wd=True, bn_wd=True, wd=0.01, train_bn=True, path=PosixPath('/content/drive/My Drive/DATA-475/imdb'), model_dir='models', callback_fns=[functools.partial(<class 'fastai.basic_train.Recorder'>, add_time=True, silent=False)], callbacks=[RNNTrainer\n",
              "learn: RNNLearner(data=TextClasDataBunch;\n",
              "\n",
              "Train: LabelList (19999 items)\n",
              "x: TextList\n",
              "xxbos a very early xxmaj oliver xxmaj stone ( xxunk film , and one of the first films in the impressive career of xxmaj lloyd xxmaj kaufman ( co - founder and president of the world 's only real independent film studio xxmaj troma , creator of the xxmaj toxic xxmaj avenger and , at the prestigious xxmaj amsterdam xxmaj fantastic xxmaj filmfestival , lifetime - achievement awarded filmmaker for over 30 years ) . xxmaj having raised the money for this film on his own , xxmaj lloyd wrote this script together with xxmaj theodore xxmaj gershuni in 1970 and in hindsight regrets having listened to advice to have xxmaj gershuni else direct the film instead of doing it himself . xxmaj but back then he was still inexperienced in the business and it is probably because of decisions like these that he takes no nonsense from anyone anymore . xxmaj indeed it would have been interesting to see xxmaj lloyd 's version of his own script - as one of the world 's most original , daring , experimental and non - compromising directors he probably would have given it even more edge than it already has . xxmaj but as it is we have the xxmaj gershuni - directed film . xxmaj and weather it is due to the strong script , or the fact that he too is indeed quite a director of his own , xxup sugar xxup cookies is a very intelligent , highly suspenseful and well - crafted motion picture that deserves a lot more attention than it receives . xxmaj the shoestring budget the small studio ( this was even before xxmaj kaufman and his friend and partner for over 30 years now , xxmaj michael xxmaj xxunk , formed xxmaj troma ) had to work with is so well handled that the film looks a lot more expensive , indeed does not have a \" low budget \" look at all . xxmaj the story revolves around lesbian xxmaj camilla xxmaj stone ( played by enigmatic xxmaj mary xxmaj xxunk ) and her lover who winds up dead through circumstances i wo n't reveal not to spoil a delightful story . xxmaj this leads to a succession of plot - twists , mind games and personality reform that is loosely inspired by xxmaj hitchcock 's xxmaj vertigo and at least as inventive . xxmaj the atmosphere is a lot grimmer , though , and some comparisons to xxmaj nicholas xxmaj roeg 's and xxmaj donald xxmaj xxunk 's xxup performance come to mind . xxmaj in this mix is a very original and inventive erotic laden thriller that keeps it quite unclear as to how it is all going to end , which , along with a splendidly interwoven sub - plot with a nod to xxmaj kaufman 's earlier and unfortunately unavailable xxup big xxup guss xxup what xxup 's xxup the xxup fuss , makes for a very exciting one - and - a - half - hour . xxmaj certainly one of the best films in xxmaj troma 's library , and yet again one of those films that defy the curious fantasy that their catalog is one of bad taste . xxmaj the xxup dvd includes some recent interviews xxmaj kaufman conducts with xxmaj woronov and the other leading lady xxmaj lynn xxmaj lowry ( later seen in xxmaj george xxmaj romero 's xxup the xxup crazies ) , thus giving some interesting insight in what went on during the making of this cult - favorite and a few hints of what would be different had xxmaj lloyd directed it himself . xxmaj highly recommended .,xxbos xxmaj do n't waste your time on this dreck . xxmaj as portrayed , the characters have no redeeming values and watching them interact is sheer torture . \" xxmaj gothic \" was entertainment at least , this is crap . xxmaj if you like watching pretentious and spoiled poets straining to outwit each other , this may be right up your alley . xxmaj lord xxmaj byron is portrayed as a complete jerk , and why the others would choose to spend more than five minutes with him is truly bewildering . xxmaj mary xxmaj shelly appears to be the only character with any spine whatsoever , but even she comes out of the whole ordeal without an ounce of respect . xxmaj what a waste of time . xxmaj see xxmaj gothic instead . i also remember seeing another superior movie based on the same subject matter , but did n't catch the title . i was hoping this was it , but no such luck . xxmaj not recommended .,xxbos xxmaj the best martial arts movie ever made . xxmaj this one movie is better than anything xxmaj bruce xxmaj lee ever did . a classic with a thoroughly entertaining and brutal climax . xxmaj jackie xxmaj chan is the king of martial arts movies and the true king of kung fu . xxmaj it 's a great pity that whilst xxmaj bruce xxmaj lee had been so overrated , it took xxmaj jackie xxmaj chan an eternity to become popular in xxmaj europe and xxmaj america . xxmaj jackie rules xxrep 4 !,xxbos i must admit , there are few books with corresponding movies that i have actually read before seeing the cinematic adaptation . xxmaj nineteen xxmaj eighty - xxmaj four happens to be one of those rare cases . xxmaj the book was great . xxmaj it was immersive and interestingly prophetic . xxmaj but the movie just plain sucked . xxmaj it is easily the worst film i have ever seen . xxmaj the only reason i did n't turn it off after the first 5 minutes was the fact that watching the movie was half of a two - part assignment for a class . xxmaj it was dark and grotesque , but did nothing in the way of achieving the proper atmosphere . xxmaj the acting was nothing above average , and considering the fact that there was n't much to act out , this was severely disappointing . xxmaj the book , for example , did n't give me the impression that xxmaj winston was unable to blurt out more than a single syllable at a time . xxmaj boring , disturbing , and visually unappealing , the movie totally xxunk the book . xxmaj wait a second ... xxmaj isn't it xxmaj british ?,xxbos i saw this film when it was originally released in 1989 . i enjoyed it then , and i still do now . xxmaj but what i realize now is that this is quite \" adult \" for a film with a g rating , especially the notion of dying and going to xxmaj heaven . xxmaj burt xxmaj reynolds and xxmaj dom deluise work wonderfully together , and xxmaj reynolds ' singing voice is appropriate for a junkyard dog . xxmaj there are some good songs ranging from upbeat ( \" xxmaj let 's xxmaj make xxmaj music xxmaj together \" ) to downright emotional ( \" xxmaj home to xxmaj my xxmaj heart \" ) . i found the plot good , although it does go off on a tangent once or twice . xxmaj the final scene of the film with xxmaj charlie and xxmaj anne - xxmaj marie is one of the saddest i 've ever seen in animation . a film worth experiencing .\n",
              "y: CategoryList\n",
              "positive,negative,positive,negative,positive\n",
              "Path: /content/drive/My Drive/DATA-475/imdb;\n",
              "\n",
              "Valid: LabelList (5001 items)\n",
              "x: TextList\n",
              "xxbos xxmaj one of the most timely and engrossing documentaries , you 'll ever watch . xxmaj while the story takes place in the xxmaj venezuelan capital of xxmaj caracas , it provides an intimate look into political dynamics , that prevail throughout the western xxmaj hemisphere . xxmaj while essentially another chapter in the story of the \" xxup u.s. backed , xxmaj latin xxmaj american coup \" , this film chronicles in real - time , what can happen when the poorest people , are armed with unity , political savvy , and courage ! xxmaj the political insights offered by this film are invaluable . xxmaj one gets clear examples of the private media , as a formidable force for mass deception and propaganda . xxmaj we see the poor people of xxmaj caracas grappling with the brutal realities of \" xxmaj american politics \" . xxmaj one gets a clear sense of impending doom , if the people fail to address the blatant tyranny , which has been abruptly , and illegally , thrust upon them by the conspirators . xxmaj we also see the arrogance and fascism , of the xxup cia backed , private media , xxunk , and generals , who 've conspired to bring xxmaj venezuela back under xxmaj washington 's domination . xxmaj though ably led by xxmaj president xxmaj hugo xxmaj chavez , the people of xxmaj caracas are forced to act without him , after xxmaj chavez was forcibly kidnapped by renegade generals . xxmaj their response is the highpoint of the film . xxmaj if one seeks an excellent portrait of what the xxup u.s. government , xxmaj hugo xxmaj chavez , and revolutionary xxmaj venezuela , are all about , this movie is it !,xxbos a slow , tedious , and one dimensional movie ! xxmaj good casting with clichéd dialogue , boring story line , and soulless direction from xxmaj mr xxmaj marshal ! xxmaj the conventional and predictable story of the most famous form of prostitution from the xxmaj asian continent , lacks heart , new insights , and depth . xxmaj the lead character looks out of place due to her tiny xxunk and phony looking contact lenses . xxmaj the lexicon employed by the geishas sounds forced and a bit too sophisticated for their limited exposure in the ways of education . xxmaj the story goes on and on for hours trying to convince you this little , boring , flat chested xxmaj asian girl is the ultimate xxmaj geisha , they actually say in the movie \" xxmaj she is destined to become a legend \" i say hardy the case ! xxmaj the movie is just plain boring , it is beautiful to look at , it has a very few interesting moments as many as you may find by going out for xxunk . xxmaj basically , if you do n't believe the messenger you wo nt believe the message , and this girl did n't fill the shoe ! xxmaj xxunk , boring , skip it !,xxbos xxmaj it was a decent movie , i actually kind of enjoyed it . xxmaj but the ending is so abrupt ! ! xxmaj there is absolutely no closure and it leaves tons of loose ends . xxmaj what happens after the concert ? xxmaj what happens with her boyfriend ? xxmaj does she hook up with xxmaj grant ? xxmaj does she come beck in the next semester ? xxmaj and what about xxmaj angela ? xxmaj obviously xxmaj holly 's performance would knock xxmaj angela down a few pegs , but nothing is shown to indicate how she reacts . xxmaj there is so much left up in the air and it 's very unsatisfying . i do n't know if it is trying to leave room for a sequel or something , but it is a terrible ending and i think that it really makes the movie a joke . i was very disappointed .,xxbos xxmaj as a \" xxunk xxmaj catholic \" who had 11 years of xxmaj catholic school , but has n't been to xxmaj mass in 35 years except for weddings and funerals , i thought i 'd get a kick out of this . xxmaj and i did . . . for the first two - thirds of the movie . xxmaj it was all the standard stuff -- strict xxunk school teachings , repressed sexuality , etc . xxmaj but then , suddenly , the movie turned mean . xxup really mean . xxmaj now mind you , i saw this before the pedophilia scandals hit . . . and maybe i would n't have been quite so offended at such nasty , hateful digs at the xxmaj catholic xxmaj church if i 'd known about those abominations ( such a xxmaj catholic term ! ) and xxunk . xxmaj it 's been a few years since i rented the video , and i wo n't go back to rent it again with a new perspective . xxmaj it just left such a dirty , nasty , ugly taste in my mouth . . . i wonder what experience all the actors had with the xxmaj church , because either they * really * hate it , or they xxunk themselves for the paycheck . xxmaj it 's an incredibly anti - xxmaj catholic movie , offensive to anyone who has a glimmer of a xxunk of respect for xxmaj catholic education . xxmaj which i still do because there were no better teachers back in the ' 50s . xxmaj whatever else those nuns did , they forced me to learn how to read and write the xxmaj english language . xxmaj they made us memorize . ( xxmaj how many kids today can do simple xxunk in their heads ? ) xxmaj truth is , there 's nothing more essential for success in xxmaj america . xxmaj can ya read ? xxmaj can ya add / subtract / multiply / divide ? xxmaj great . xxmaj you can get any advanced degree you want . xxmaj and the discipline of xxmaj catholic education will stand you in good stead , not just as you continue your studies , but also for the rest of your life , no matter what you think of the xxmaj catholic \" mythology \" we all had to learn . xxmaj such a great cast , such a lousy , rotten script . i really feel bad ( and no , it 's not \" badly \" -- trust me , the nuns taught me better ) for the writer and director . i thought i had mixed emotions about xxmaj catholic school . xxmaj but the participants in this project must 've been those bad ( xxunk , stupid ) kids who sat in the back of the room , if they were willingly involved in making this movie .,xxbos i just saw this film on xxmaj turner xxmaj classic xxmaj movies last night and was blown away by xxmaj victor mclaglen 's performance : xxmaj in every sense of the word a \" tour de force \" . xxmaj the atmosphere of 1922 xxmaj dublin evoked through the cinematography and production design really foreshadowed techniques used in the best film noirs of the 40 's and early 50's . xxmaj very nice attention to detail xxunk xxmaj frankie mcphillip 's ( xxmaj wallace xxmaj ford 's ) wake , the mourners are all praying in xxmaj gaelic . xxmaj max xxmaj steiner 's score is unforgettable . xxmaj as in later films such as 1939 's xxup xxunk , he appropriated folk ballads to lend local color and a sense of place and time . xxmaj john xxmaj ford : already a film giant in 1935 !\n",
              "y: CategoryList\n",
              "positive,negative,negative,negative,positive\n",
              "Path: /content/drive/My Drive/DATA-475/imdb;\n",
              "\n",
              "Test: LabelList (25000 items)\n",
              "x: TextList\n",
              "xxbos i went and saw this movie last night after being coaxed to by a few friends of mine . i 'll admit that i was reluctant to see it because from what i knew of xxmaj ashton xxmaj kutcher he was only able to do comedy . i was wrong . xxmaj kutcher played the character of xxmaj jake xxmaj fischer very well , and xxmaj kevin xxmaj costner played xxmaj ben xxmaj randall with such professionalism . xxmaj the sign of a good movie is that it can toy with our emotions . xxmaj this one did exactly that . xxmaj the entire theater ( which was sold out ) was overcome by laughter during the first half of the movie , and were moved to tears during the second half . xxmaj while exiting the theater i not only saw many women in tears , but many full grown men as well , trying desperately not to let anyone see them crying . xxmaj this movie was great , and i suggest that you go see it before you judge .,xxbos xxmaj actor turned director xxmaj bill xxmaj paxton follows up his promising debut , the xxmaj gothic - horror \" xxmaj frailty \" , with this family friendly sports drama about the 1913 xxup u.s. xxmaj open where a young xxmaj american xxunk rises from his humble background to play against his xxmaj xxunk idol in what was dubbed as \" xxmaj the xxmaj greatest xxmaj game xxmaj ever xxmaj played . \" i 'm no fan of golf , and these scrappy underdog sports flicks are a dime a dozen ( most recently done to grand effect with \" xxmaj miracle \" and \" xxmaj cinderella xxmaj man \" ) , but some how this film was enthralling all the same . xxmaj the film starts with some creative opening credits ( imagine a xxmaj disneyfied version of the animated opening credits of xxup hbo 's \" xxmaj carnivale \" and \" xxmaj rome \" ) , but lumbers along slowly for its first by - the - numbers hour . xxmaj once the action moves to the xxup u.s. xxmaj open things pick up very well . xxmaj paxton does a nice job and shows a knack for effective directorial flourishes ( i loved the rain - soaked montage of the action on day two of the open ) that propel the plot further or add some unexpected psychological depth to the proceedings . xxmaj there 's some compelling character development when the xxmaj british xxmaj harry xxmaj xxunk is haunted by images of the aristocrats in black suits and top hats who destroyed his family cottage as a child to make way for a golf course . xxmaj he also does a good job of visually depicting what goes on in the players ' heads under pressure . xxmaj golf , a painfully boring sport , is brought vividly alive here . xxmaj credit should also be given the set designers and costume department for creating an engaging period - piece atmosphere of xxmaj london and xxmaj boston at the beginning of the twentieth century . xxmaj you know how this is going to end not only because it 's based on a true story but also because films in this genre follow the same template over and over , but xxmaj paxton puts on a better than average show and perhaps indicates more talent behind the camera than he ever had in front of it . xxmaj despite the formulaic nature , this is a nice and easy film to root for that deserves to find an audience .,xxbos xxmaj as a recreational golfer with some knowledge of the sport 's history , i was pleased with xxmaj disney 's sensitivity to the issues of class in golf in the early twentieth century . xxmaj the movie depicted well the psychological battles that xxmaj harry xxmaj xxunk fought within himself , from his childhood trauma of being evicted to his own inability to break that glass ceiling that prevents him from being accepted as an equal in xxmaj english golf society . xxmaj likewise , the young xxmaj xxunk goes through his own class struggles , being a mere caddie in the eyes of the upper crust xxmaj americans who scoff at his attempts to rise above his standing . xxmaj what i loved best , however , is how this theme of class is manifested in the characters of xxmaj xxunk 's parents . xxmaj his father is a working - class drone who sees the value of hard work but is intimidated by the upper class ; his mother , however , recognizes her son 's talent and desire and encourages him to pursue his dream of competing against those who think he is inferior . xxmaj finally , the golf scenes are well photographed . xxmaj although the course used in the movie was not the actual site of the historical tournament , the little liberties taken by xxmaj disney do not detract from the beauty of the film . xxmaj there 's one little xxmaj disney moment at the pool table ; otherwise , the viewer does not really think xxmaj disney . xxmaj the ending , as in \" xxmaj miracle , \" is not some xxmaj disney creation , but one that only human history could have written .,xxbos i saw this film in a sneak preview , and it is delightful . xxmaj the cinematography is unusually creative , the acting is good , and the story is fabulous . xxmaj if this movie does not do well , it wo n't be because it does n't deserve to . xxmaj before this film , i did n't realize how charming xxmaj shia xxmaj xxunk could be . xxmaj he does a marvelous , self - contained , job as the lead . xxmaj there 's something incredibly sweet about him , and it makes the movie even better . xxmaj the other actors do a good job as well , and the film contains moments of really high suspense , more than one might expect from a movie about golf . xxmaj sports movies are a dime a dozen , but this one stands out . xxmaj this is one i 'd recommend to anyone .,xxbos xxmaj bill xxmaj paxton has taken the true story of the 1913 xxup us golf open and made a film that is about much more than an extra - ordinary game of golf . xxmaj the film also deals directly with the class tensions of the early twentieth century and touches upon the profound anti - xxmaj catholic prejudices of both the xxmaj british and xxmaj american establishments . xxmaj but at heart the film is about that perennial favourite of triumph against the odds . xxmaj the acting is exemplary throughout . xxmaj stephen xxmaj xxunk is excellent as usual , but the revelation of the movie is xxmaj shia xxunk who delivers a disciplined , dignified and highly sympathetic performance as a working class xxmaj franco - xxmaj irish kid fighting his way through the prejudices of the xxmaj new xxmaj england xxup wasp establishment . xxmaj for those who are only familiar with his slap - stick performances in \" xxmaj even xxmaj stevens \" this demonstration of his maturity is a delightful surprise . xxmaj and xxmaj josh xxmaj xxunk as the ten year old xxunk threatens to steal every scene in which he appears . a old fashioned movie in the best sense of the word : fine acting , clear directing and a great story that grips to the end - the final scene an affectionate nod to xxmaj casablanca is just one of the many pleasures that fill a great movie .\n",
              "y: EmptyLabelList\n",
              ",,,,\n",
              "Path: /content/drive/My Drive/DATA-475/imdb, model=SequentialRNN(\n",
              "  (0): MultiBatchEncoder(\n",
              "    (module): AWD_LSTM(\n",
              "      (encoder): Embedding(44016, 400, padding_idx=1)\n",
              "      (encoder_dp): EmbeddingDropout(\n",
              "        (emb): Embedding(44016, 400, padding_idx=1)\n",
              "      )\n",
              "      (rnns): ModuleList(\n",
              "        (0): WeightDropout(\n",
              "          (module): LSTM(400, 1152, batch_first=True)\n",
              "        )\n",
              "        (1): WeightDropout(\n",
              "          (module): LSTM(1152, 1152, batch_first=True)\n",
              "        )\n",
              "        (2): WeightDropout(\n",
              "          (module): LSTM(1152, 400, batch_first=True)\n",
              "        )\n",
              "      )\n",
              "      (input_dp): RNNDropout()\n",
              "      (hidden_dps): ModuleList(\n",
              "        (0): RNNDropout()\n",
              "        (1): RNNDropout()\n",
              "        (2): RNNDropout()\n",
              "      )\n",
              "    )\n",
              "  )\n",
              "  (1): PoolingLinearClassifier(\n",
              "    (layers): Sequential(\n",
              "      (0): BatchNorm1d(1200, eps=1e-05, momentum=0.1, affine=True, track_running_stats=True)\n",
              "      (1): Dropout(p=0.2, inplace=False)\n",
              "      (2): Linear(in_features=1200, out_features=50, bias=True)\n",
              "      (3): ReLU(inplace=True)\n",
              "      (4): BatchNorm1d(50, eps=1e-05, momentum=0.1, affine=True, track_running_stats=True)\n",
              "      (5): Dropout(p=0.1, inplace=False)\n",
              "      (6): Linear(in_features=50, out_features=2, bias=True)\n",
              "    )\n",
              "  )\n",
              "), opt_func=functools.partial(<class 'torch.optim.adam.Adam'>, betas=(0.9, 0.99)), loss_func=FlattenedLoss of CrossEntropyLoss(), metrics=[<function accuracy at 0x7f5c239ef7b8>], true_wd=True, bn_wd=True, wd=0.01, train_bn=True, path=PosixPath('/content/drive/My Drive/DATA-475/imdb'), model_dir='models', callback_fns=[functools.partial(<class 'fastai.basic_train.Recorder'>, add_time=True, silent=False)], callbacks=[...], layer_groups=[Sequential(\n",
              "  (0): Embedding(44016, 400, padding_idx=1)\n",
              "  (1): EmbeddingDropout(\n",
              "    (emb): Embedding(44016, 400, padding_idx=1)\n",
              "  )\n",
              "), Sequential(\n",
              "  (0): WeightDropout(\n",
              "    (module): LSTM(400, 1152, batch_first=True)\n",
              "  )\n",
              "  (1): RNNDropout()\n",
              "), Sequential(\n",
              "  (0): WeightDropout(\n",
              "    (module): LSTM(1152, 1152, batch_first=True)\n",
              "  )\n",
              "  (1): RNNDropout()\n",
              "), Sequential(\n",
              "  (0): WeightDropout(\n",
              "    (module): LSTM(1152, 400, batch_first=True)\n",
              "  )\n",
              "  (1): RNNDropout()\n",
              "), Sequential(\n",
              "  (0): PoolingLinearClassifier(\n",
              "    (layers): Sequential(\n",
              "      (0): BatchNorm1d(1200, eps=1e-05, momentum=0.1, affine=True, track_running_stats=True)\n",
              "      (1): Dropout(p=0.2, inplace=False)\n",
              "      (2): Linear(in_features=1200, out_features=50, bias=True)\n",
              "      (3): ReLU(inplace=True)\n",
              "      (4): BatchNorm1d(50, eps=1e-05, momentum=0.1, affine=True, track_running_stats=True)\n",
              "      (5): Dropout(p=0.1, inplace=False)\n",
              "      (6): Linear(in_features=50, out_features=2, bias=True)\n",
              "    )\n",
              "  )\n",
              ")], add_time=True, silent=False)\n",
              "alpha: 2.0\n",
              "beta: 1.0], layer_groups=[Sequential(\n",
              "  (0): Embedding(44016, 400, padding_idx=1)\n",
              "  (1): EmbeddingDropout(\n",
              "    (emb): Embedding(44016, 400, padding_idx=1)\n",
              "  )\n",
              "), Sequential(\n",
              "  (0): WeightDropout(\n",
              "    (module): LSTM(400, 1152, batch_first=True)\n",
              "  )\n",
              "  (1): RNNDropout()\n",
              "), Sequential(\n",
              "  (0): WeightDropout(\n",
              "    (module): LSTM(1152, 1152, batch_first=True)\n",
              "  )\n",
              "  (1): RNNDropout()\n",
              "), Sequential(\n",
              "  (0): WeightDropout(\n",
              "    (module): LSTM(1152, 400, batch_first=True)\n",
              "  )\n",
              "  (1): RNNDropout()\n",
              "), Sequential(\n",
              "  (0): PoolingLinearClassifier(\n",
              "    (layers): Sequential(\n",
              "      (0): BatchNorm1d(1200, eps=1e-05, momentum=0.1, affine=True, track_running_stats=True)\n",
              "      (1): Dropout(p=0.2, inplace=False)\n",
              "      (2): Linear(in_features=1200, out_features=50, bias=True)\n",
              "      (3): ReLU(inplace=True)\n",
              "      (4): BatchNorm1d(50, eps=1e-05, momentum=0.1, affine=True, track_running_stats=True)\n",
              "      (5): Dropout(p=0.1, inplace=False)\n",
              "      (6): Linear(in_features=50, out_features=2, bias=True)\n",
              "    )\n",
              "  )\n",
              ")], add_time=True, silent=False)"
            ]
          },
          "metadata": {
            "tags": []
          },
          "execution_count": 13
        }
      ]
    },
    {
      "cell_type": "code",
      "metadata": {
        "id": "mLL6cVkhOmT4",
        "colab_type": "code",
        "colab": {
          "base_uri": "https://localhost:8080/",
          "height": 564
        },
        "outputId": "bf919d4d-7fe0-4727-ebab-f0dc2d055245"
      },
      "source": [
        "# tune the text_classifier_learner to accpetable accuracy (>80%)\n",
        "clas_learner.lr_find()\n",
        "clas_learner.recorder.plot(suggestion=True)\n",
        "lr = clas_learner.recorder.min_grad_lr\n",
        "clas_learner.fit_one_cycle(4, lr)"
      ],
      "execution_count": 14,
      "outputs": [
        {
          "output_type": "display_data",
          "data": {
            "text/html": [
              "\n",
              "    <div>\n",
              "        <style>\n",
              "            /* Turns off some styling */\n",
              "            progress {\n",
              "                /* gets rid of default border in Firefox and Opera. */\n",
              "                border: none;\n",
              "                /* Needs to be in here for Safari polyfill so background images work as expected. */\n",
              "                background-size: auto;\n",
              "            }\n",
              "            .progress-bar-interrupted, .progress-bar-interrupted::-webkit-progress-bar {\n",
              "                background: #F44336;\n",
              "            }\n",
              "        </style>\n",
              "      <progress value='0' class='' max='1' style='width:300px; height:20px; vertical-align: middle;'></progress>\n",
              "      0.00% [0/1 00:00<00:00]\n",
              "    </div>\n",
              "    \n",
              "<table border=\"1\" class=\"dataframe\">\n",
              "  <thead>\n",
              "    <tr style=\"text-align: left;\">\n",
              "      <th>epoch</th>\n",
              "      <th>train_loss</th>\n",
              "      <th>valid_loss</th>\n",
              "      <th>accuracy</th>\n",
              "      <th>time</th>\n",
              "    </tr>\n",
              "  </thead>\n",
              "  <tbody>\n",
              "  </tbody>\n",
              "</table><p>\n",
              "\n",
              "    <div>\n",
              "        <style>\n",
              "            /* Turns off some styling */\n",
              "            progress {\n",
              "                /* gets rid of default border in Firefox and Opera. */\n",
              "                border: none;\n",
              "                /* Needs to be in here for Safari polyfill so background images work as expected. */\n",
              "                background-size: auto;\n",
              "            }\n",
              "            .progress-bar-interrupted, .progress-bar-interrupted::-webkit-progress-bar {\n",
              "                background: #F44336;\n",
              "            }\n",
              "        </style>\n",
              "      <progress value='94' class='' max='624' style='width:300px; height:20px; vertical-align: middle;'></progress>\n",
              "      15.06% [94/624 00:20<01:56 2.3707]\n",
              "    </div>\n",
              "    "
            ],
            "text/plain": [
              "<IPython.core.display.HTML object>"
            ]
          },
          "metadata": {
            "tags": []
          }
        },
        {
          "output_type": "stream",
          "text": [
            "LR Finder is complete, type {learner_name}.recorder.plot() to see the graph.\n",
            "Min numerical gradient: 5.25E-03\n",
            "Min loss divided by 10: 5.25E-02\n"
          ],
          "name": "stdout"
        },
        {
          "output_type": "display_data",
          "data": {
            "text/html": [
              "<table border=\"1\" class=\"dataframe\">\n",
              "  <thead>\n",
              "    <tr style=\"text-align: left;\">\n",
              "      <th>epoch</th>\n",
              "      <th>train_loss</th>\n",
              "      <th>valid_loss</th>\n",
              "      <th>accuracy</th>\n",
              "      <th>time</th>\n",
              "    </tr>\n",
              "  </thead>\n",
              "  <tbody>\n",
              "    <tr>\n",
              "      <td>0</td>\n",
              "      <td>0.436687</td>\n",
              "      <td>0.351367</td>\n",
              "      <td>0.847031</td>\n",
              "      <td>02:34</td>\n",
              "    </tr>\n",
              "    <tr>\n",
              "      <td>1</td>\n",
              "      <td>0.438064</td>\n",
              "      <td>0.335719</td>\n",
              "      <td>0.858228</td>\n",
              "      <td>02:26</td>\n",
              "    </tr>\n",
              "    <tr>\n",
              "      <td>2</td>\n",
              "      <td>0.410470</td>\n",
              "      <td>0.313616</td>\n",
              "      <td>0.873425</td>\n",
              "      <td>02:38</td>\n",
              "    </tr>\n",
              "    <tr>\n",
              "      <td>3</td>\n",
              "      <td>0.397797</td>\n",
              "      <td>0.318966</td>\n",
              "      <td>0.875625</td>\n",
              "      <td>02:40</td>\n",
              "    </tr>\n",
              "  </tbody>\n",
              "</table>"
            ],
            "text/plain": [
              "<IPython.core.display.HTML object>"
            ]
          },
          "metadata": {
            "tags": []
          }
        },
        {
          "output_type": "display_data",
          "data": {
            "image/png": "[encoded data removed]",
            "text/plain": [
              "<Figure size 432x288 with 1 Axes>"
            ]
          },
          "metadata": {
            "tags": [],
            "needs_background": "light"
          }
        }
      ]
    },
    {
      "cell_type": "code",
      "metadata": {
        "id": "6VHA0eRISBbF",
        "colab_type": "code",
        "colab": {
          "base_uri": "https://localhost:8080/",
          "height": 119
        },
        "outputId": "389a7a31-bfb0-4914-c875-0e2fcfef7e69"
      },
      "source": [
        "clas_learner.predict(\"This is a horrible movie.\")"
      ],
      "execution_count": 15,
      "outputs": [
        {
          "output_type": "stream",
          "text": [
            "/usr/local/lib/python3.6/dist-packages/fastai/text/data.py:339: UserWarning: This overload of nonzero is deprecated:\n",
            "\tnonzero()\n",
            "Consider using one of the following signatures instead:\n",
            "\tnonzero(*, bool as_tuple) (Triggered internally at  /pytorch/torch/csrc/utils/python_arg_parser.cpp:766.)\n",
            "  idx_min = (t != self.pad_idx).nonzero().min()\n"
          ],
          "name": "stderr"
        },
        {
          "output_type": "execute_result",
          "data": {
            "text/plain": [
              "(Category tensor(1), tensor(1), tensor([0.0368, 0.9632]))"
            ]
          },
          "metadata": {
            "tags": []
          },
          "execution_count": 15
        }
      ]
    },
    {
      "cell_type": "code",
      "metadata": {
        "id": "CXgIKlWb-Q8D",
        "colab_type": "code",
        "colab": {
          "base_uri": "https://localhost:8080/",
          "height": 34
        },
        "outputId": "ede0d5d1-e469-40a9-b8d2-2614a6db5d1b"
      },
      "source": [
        "clas_learner.predict(\"This is a great movie,\")"
      ],
      "execution_count": 16,
      "outputs": [
        {
          "output_type": "execute_result",
          "data": {
            "text/plain": [
              "(Category tensor(1), tensor(1), tensor([1.3633e-05, 9.9999e-01]))"
            ]
          },
          "metadata": {
            "tags": []
          },
          "execution_count": 16
        }
      ]
    },
    {
      "cell_type": "code",
      "metadata": {
        "id": "mazhyIrA-R0m",
        "colab_type": "code",
        "colab": {
          "base_uri": "https://localhost:8080/",
          "height": 34
        },
        "outputId": "9ea1fb4e-6374-4f21-8ace-9c337d88df34"
      },
      "source": [
        "# Check the label mapping\n",
        "# suppose it returns {'negative': 0, 'positive': 1}\n",
        "data_clas.train_ds.y.c2i"
      ],
      "execution_count": 17,
      "outputs": [
        {
          "output_type": "execute_result",
          "data": {
            "text/plain": [
              "{'negative': 0, 'positive': 1}"
            ]
          },
          "metadata": {
            "tags": []
          },
          "execution_count": 17
        }
      ]
    },
    {
      "cell_type": "code",
      "metadata": {
        "id": "-YRl2rhMPvuW",
        "colab_type": "code",
        "colab": {}
      },
      "source": [
        "import pandas as pd\n",
        "\n",
        "\n",
        "df = pd.read_csv(path+\"/test.csv\")\n",
        "y_true = tensor(df[\"sentiment\"]==\"positive\")"
      ],
      "execution_count": 18,
      "outputs": []
    },
    {
      "cell_type": "code",
      "metadata": {
        "id": "oRekyOZ-1qQ1",
        "colab_type": "code",
        "colab": {
          "base_uri": "https://localhost:8080/",
          "height": 311
        },
        "outputId": "db0434df-0ff1-49a0-dd2e-576c3660ed8b"
      },
      "source": [
        "interp = TextClassificationInterpretation.from_learner(\n",
        "    clas_learner, \n",
        "    ds_type=DatasetType.Test\n",
        ")\n",
        "interp.y_true = tensor(df[\"sentiment\"]==\"positive\")\n",
        "interp.plot_confusion_matrix()"
      ],
      "execution_count": 19,
      "outputs": [
        {
          "output_type": "display_data",
          "data": {
            "text/html": [
              ""
            ],
            "text/plain": [
              "<IPython.core.display.HTML object>"
            ]
          },
          "metadata": {
            "tags": []
          }
        },
        {
          "output_type": "display_data",
          "data": {
            "image/png": "[encoded data removed]",
            "text/plain": [
              "<Figure size 432x288 with 1 Axes>"
            ]
          },
          "metadata": {
            "tags": [],
            "needs_background": "light"
          }
        }
      ]
    },
    {
      "cell_type": "code",
      "metadata": {
        "id": "Ov9w-uNT8Ldd",
        "colab_type": "code",
        "colab": {
          "base_uri": "https://localhost:8080/",
          "height": 34
        },
        "outputId": "9dc830ef-8c7c-4fde-feaf-da2ef98dc2a6"
      },
      "source": [
        "from fastai.metrics import accuracy\n",
        "\n",
        "accuracy(interp.preds, interp.y_true)"
      ],
      "execution_count": 20,
      "outputs": [
        {
          "output_type": "execute_result",
          "data": {
            "text/plain": [
              "tensor(0.8685)"
            ]
          },
          "metadata": {
            "tags": []
          },
          "execution_count": 20
        }
      ]
    }
  ]
}